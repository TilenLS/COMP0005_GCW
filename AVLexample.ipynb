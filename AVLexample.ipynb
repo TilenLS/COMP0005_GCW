{
 "cells": [
  {
   "cell_type": "code",
   "execution_count": 5,
   "metadata": {},
   "outputs": [],
   "source": [
    "class TreeNode(object):\n",
    "    def __init__(self, val):\n",
    "        self.val = val\n",
    "        self.left = None\n",
    "        self.right = None\n",
    "        self.height = 1"
   ]
  },
  {
   "cell_type": "code",
   "execution_count": 11,
   "metadata": {},
   "outputs": [],
   "source": [
    "class AVL_Tree(object):\n",
    "\n",
    "    def insert(self,root,key):\n",
    "        if not root:\n",
    "            return TreeNode(key)\n",
    "        elif key < root.val:\n",
    "            root.left = self.insert(root.left, key)\n",
    "        else:\n",
    "            root.right = self.insert(root.right, key)\n",
    "\n",
    "        root.height = 1 + max(self.getHeight(root.left), self.getHeight(root.right))\n",
    "\n",
    "        balance = self.getBalance(root)\n",
    "\n",
    "        if balance > 1 and key < root.left.val:\n",
    "            return self.rightRotate(root)\n",
    "        \n",
    "        if balance < -1 and key > root.right.val:\n",
    "            return self.leftRotate(root)\n",
    "        \n",
    "        if balance > 1 and key > root.left.val:\n",
    "            root.left = self.leftRotate(root.left)\n",
    "            return self.rightRotate(root)\n",
    "\n",
    "        if balance < -1 and key < root.right.val:\n",
    "            root.right = self.rightRotate(root.right)\n",
    "            return self.leftRotate(root)\n",
    "        \n",
    "        return root\n",
    "    \n",
    "    def leftRotate(self, z):\n",
    "        y = z.right\n",
    "        T2 = y.left\n",
    "\n",
    "        y.left = z\n",
    "        z.right = T2\n",
    "\n",
    "        z.height = 1 + max(self.getHeight(z.left),self.getHeight(z.right))\n",
    "        y.height = 1 + max(self.getHeight(y.left),self.getHeight(y.right))\n",
    "\n",
    "        return y\n",
    "    \n",
    "    def rightRotate(self, z):\n",
    "        y = z.left\n",
    "        T3 = y.right\n",
    "\n",
    "        y.right = z\n",
    "        z.left = T3\n",
    "\n",
    "        z.height = 1 + max(self.getHeight(z.left),self.getHeight(z.right))\n",
    "        y.height = 1 + max(self.getHeight(y.left),self.getHeight(y.right))\n",
    "\n",
    "        return y\n",
    "\n",
    "    def getHeight(self, root):\n",
    "        if not root:\n",
    "            return 0\n",
    "\n",
    "        return root.height\n",
    "    \n",
    "    def getBalance(self, root):\n",
    "        if not root:\n",
    "            return 0\n",
    "\n",
    "        return self.getHeight(root.left) - self.getHeight(root.right)\n",
    "    \n",
    "    def preOrder(self, root):\n",
    "        if not root:\n",
    "            return\n",
    "        \n",
    "        print(\"{0} \".format(root.val), end=\"\")\n",
    "        self.preOrder(root.left)\n",
    "        self.preOrder(root.right)"
   ]
  },
  {
   "cell_type": "code",
   "execution_count": 12,
   "metadata": {},
   "outputs": [],
   "source": [
    "myTree = AVL_Tree()\n",
    "root = None"
   ]
  },
  {
   "cell_type": "code",
   "execution_count": 13,
   "metadata": {},
   "outputs": [],
   "source": [
    "root = myTree.insert(root, 10)\n",
    "root = myTree.insert(root, 20)\n",
    "root = myTree.insert(root, 30)\n",
    "root = myTree.insert(root, 40)\n",
    "root = myTree.insert(root, 50)\n",
    "root = myTree.insert(root, 25)"
   ]
  },
  {
   "cell_type": "code",
   "execution_count": 14,
   "metadata": {},
   "outputs": [
    {
     "name": "stdout",
     "output_type": "stream",
     "text": [
      "30 20 10 25 40 50 \n"
     ]
    }
   ],
   "source": [
    "myTree.preOrder(root)\n",
    "print()"
   ]
  },
  {
   "cell_type": "code",
   "execution_count": 18,
   "metadata": {},
   "outputs": [],
   "source": [
    "import sys"
   ]
  },
  {
   "cell_type": "code",
   "execution_count": 48,
   "metadata": {},
   "outputs": [],
   "source": [
    "class AVL_Tree2(object):\n",
    "\n",
    "    def insert_node(self, root, key):\n",
    "        if not root:\n",
    "            return TreeNode(key)\n",
    "        elif key < root.val:\n",
    "            root.left = self.insert_node(root.left, key)\n",
    "        else:\n",
    "            root.right = self.insert_node(root.right, key)\n",
    "        \n",
    "        root.height = 1 + max(self.getHeight(root.left),self.getHeight(root.right))\n",
    "\n",
    "        balanceFactor = self.getBalance(root)\n",
    "        if balanceFactor > 1:\n",
    "            if key > root.left.val:\n",
    "                return self.rightRotate(root)\n",
    "            else:\n",
    "                root.left = self.leftRotate(root)\n",
    "                return self.rightRotate(root)\n",
    "        \n",
    "        if balanceFactor < -1:\n",
    "            if key > root.right.val:\n",
    "                return self.leftRotate(root)\n",
    "            else:\n",
    "                root.right = self.rightRotate(root.right)\n",
    "                return self.leftRotate\n",
    "        \n",
    "        return root\n",
    "\n",
    "    def delete_node(self, root, key):\n",
    "        if not root:\n",
    "            return root\n",
    "        elif key < root.val:\n",
    "            root.left = self.delete_node(root.left, key)\n",
    "        elif key > root.val:\n",
    "            root.right = self.delete_node(root.right, key)\n",
    "        else:\n",
    "            if root.left is None:\n",
    "                temp = root.right\n",
    "                root = None\n",
    "                return temp\n",
    "            elif root.right is None:\n",
    "                temp = root.left\n",
    "                root = None\n",
    "                return temp\n",
    "            temp = self.getMinValueNode(root.right)\n",
    "            root.val = temp.val\n",
    "            root.right = self.delete_node(root.right, temp.val)\n",
    "        \n",
    "        if root is None:\n",
    "            return root\n",
    "\n",
    "        root.height = 1 + max(self.getHeight(root.left),self.getHeight(root.right))\n",
    "\n",
    "        balanceFactor = self.getBalance(root)\n",
    "\n",
    "        if balanceFactor > 1:\n",
    "            if self.getBalance(root.left) >= 0:\n",
    "                return self.rightRotate(root)\n",
    "            else:\n",
    "                root.left = self.leftRotate(root.left)\n",
    "                return self.rightRotate(root)\n",
    "        if balanceFactor < -1:\n",
    "            if self.getBalance(root.right) <= 0:\n",
    "                return self.leftRotate(root)\n",
    "            else:\n",
    "                root.right = self.rightRotate(root.right)\n",
    "                return self.leftRotate(root)\n",
    "        return root\n",
    "\n",
    "    def leftRotate(self, z):\n",
    "        y = z.right\n",
    "        T2 = y.left\n",
    "        y.left = z\n",
    "        z.right = T2\n",
    "        z.height = 1 + max(self.getHeight(z.left),self.getHeight(z.right))\n",
    "        y.height = 1 + max(self.getHeight(y.left),self.getHeight(y.right))\n",
    "\n",
    "        return y\n",
    "\n",
    "    def rightRotate(self, z):\n",
    "        y = z.left\n",
    "        T3 = y.right\n",
    "        y.right = z\n",
    "        z.left = T3\n",
    "        z.height = 1 + max(self.getHeight(z.left),self.getHeight(z.right))\n",
    "        y.height = 1 + max(self.getHeight(y.left),self.getHeight(y.right))\n",
    "\n",
    "        return y\n",
    "    \n",
    "    def getHeight(self, root):\n",
    "        if not root:\n",
    "            return 0\n",
    "        return self.getHeight(root.left) - self.getHeight(root.right)\n",
    "    \n",
    "    def getBalance(self, root):\n",
    "        if not root:\n",
    "            return 0\n",
    "        return self.getHeight(root.left) - self.getHeight(root.right)\n",
    "    \n",
    "    def getMinValueNode(self, root):\n",
    "        if root is None or root.left is None:\n",
    "            return root\n",
    "        return self.getMinValueNode(root.left)\n",
    "\n",
    "    def preOrder(self, root):\n",
    "        if not root:\n",
    "            return\n",
    "        print(\"{0} \".format(root.val), end=\"\")\n",
    "        self.preOrder(root.left)\n",
    "        self.preOrder(root.right)\n",
    "\n",
    "    def printHelper(self, currPtr, indent, last):\n",
    "        if currPtr != None:\n",
    "            sys.stdout.write(indent)\n",
    "            if last:\n",
    "                sys.stdout.write(\"R----\")\n",
    "                indent += \"     \"\n",
    "            else:\n",
    "                sys.stdout.write(\"L----\")\n",
    "                indent += \"|    \"\n",
    "            print(currPtr.val)\n",
    "            self.printHelper(currPtr.left, indent, False)\n",
    "            self.printHelper(currPtr.right, indent, True)"
   ]
  },
  {
   "cell_type": "code",
   "execution_count": 49,
   "metadata": {},
   "outputs": [],
   "source": [
    "myTree = AVL_Tree2()\n",
    "root = None"
   ]
  },
  {
   "cell_type": "code",
   "execution_count": 50,
   "metadata": {},
   "outputs": [],
   "source": [
    "nums = [33, 13, 52, 9, 21, 61, 8, 11]\n",
    "for num in nums:\n",
    "    root = myTree.insert_node(root, num)"
   ]
  },
  {
   "cell_type": "code",
   "execution_count": 51,
   "metadata": {},
   "outputs": [
    {
     "name": "stdout",
     "output_type": "stream",
     "text": [
      "R----33\n",
      "     L----13\n",
      "     |    L----9\n",
      "     |    |    L----8\n",
      "     |    |    R----11\n",
      "     |    R----21\n",
      "     R----52\n",
      "          R----61\n"
     ]
    }
   ],
   "source": [
    "myTree.printHelper(root, \"\", True)"
   ]
  },
  {
   "cell_type": "code",
   "execution_count": 52,
   "metadata": {},
   "outputs": [],
   "source": [
    "key = 13\n",
    "root = myTree.delete_node(root, key)"
   ]
  },
  {
   "cell_type": "code",
   "execution_count": 53,
   "metadata": {},
   "outputs": [
    {
     "name": "stdout",
     "output_type": "stream",
     "text": [
      "After Deletion: \n",
      "R----33\n",
      "     L----21\n",
      "     |    L----9\n",
      "     |    |    L----8\n",
      "     |    |    R----11\n",
      "     R----52\n",
      "          R----61\n"
     ]
    }
   ],
   "source": [
    "print(\"After Deletion: \")\n",
    "myTree.printHelper(root, \"\", True)"
   ]
  },
  {
   "cell_type": "code",
   "execution_count": 54,
   "metadata": {},
   "outputs": [
    {
     "name": "stdout",
     "output_type": "stream",
     "text": [
      "33 21 9 8 11 52 61 "
     ]
    }
   ],
   "source": [
    "myTree.preOrder(root)"
   ]
  },
  {
   "cell_type": "code",
   "execution_count": null,
   "metadata": {},
   "outputs": [],
   "source": []
  }
 ],
 "metadata": {
  "interpreter": {
   "hash": "7e1998ff7f8aa20ada591c520b972326324e5ea05489af9e422744c7c09f6dad"
  },
  "kernelspec": {
   "display_name": "Python 3.10.0 64-bit",
   "language": "python",
   "name": "python3"
  },
  "language_info": {
   "codemirror_mode": {
    "name": "ipython",
    "version": 3
   },
   "file_extension": ".py",
   "mimetype": "text/x-python",
   "name": "python",
   "nbconvert_exporter": "python",
   "pygments_lexer": "ipython3",
   "version": "3.10.0"
  },
  "orig_nbformat": 4
 },
 "nbformat": 4,
 "nbformat_minor": 2
}
